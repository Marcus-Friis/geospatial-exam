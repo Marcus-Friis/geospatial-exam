{
 "cells": [
  {
   "cell_type": "code",
   "execution_count": 1,
   "id": "0bcb87eb-97e6-424d-a817-64863fc30cfd",
   "metadata": {},
   "outputs": [],
   "source": [
    "import pandas as pd\n",
    "import requests\n",
    "from shapely import wkt\n",
    "from shapely.geometry import Polygon, LineString\n",
    "import matplotlib.pyplot as plt\n",
    "import contextily as cx\n",
    "import geopandas as gpd\n",
    "import numpy as np\n",
    "from tqdm import tqdm\n",
    "import os\n",
    "import rtree"
   ]
  },
  {
   "cell_type": "code",
   "execution_count": 4,
   "id": "7603fcd9",
   "metadata": {},
   "outputs": [],
   "source": [
    "gdf = gpd.read_file(\"work/data/stoej.json\")\n",
    "gdf_edges = gpd.read_file(\"work/data/edges.json\")\n",
    "\n",
    "\n",
    "#casting to new epsg in order to use meters in the buffer zone\n",
    "gdf = gdf.to_crs(epsg=25832)\n",
    "gdf_edges = gdf_edges.to_crs(epsg=25832)\n",
    "\n"
   ]
  },
  {
   "cell_type": "code",
   "execution_count": null,
   "id": "eadc71ba",
   "metadata": {},
   "outputs": [],
   "source": [
    "def find_top_matches(polygon, lines_df, buffer_dist=15, max_matches=3):\n",
    "    buffered_poly = polygon.buffer(buffer_dist) \n",
    "\n",
    "    # Potential matches within the buffered area\n",
    "    potential_matches_idx = list(lines_index.intersection(buffered_poly.bounds))\n",
    "    potential_matches = lines_df.iloc[potential_matches_idx].copy()\n",
    "\n",
    "    if not potential_matches.empty:\n",
    "        potential_matches['intersect_area'] = potential_matches.apply(lambda row: row['geometry'].intersection(polygon).area, axis=1)\n",
    "        return potential_matches.sort_values('intersect_area', ascending=False).head(max_matches)\n",
    "    else:\n",
    "        return None  \n",
    "\n",
    "counter = 0\n",
    "\n",
    "# Build Spatial Index\n",
    "lines_index = rtree.index.Index()\n",
    "for idx, row in gdf_edges.iterrows():\n",
    "    lines_index.insert(idx, row['geometry'].bounds)\n",
    "\n",
    "results = []\n",
    "\n",
    "for index, row in gdf.iterrows():  \n",
    "    polygon = row['geometry']\n",
    "    top_matches = find_top_matches(polygon, gdf_edges)\n",
    "    counter += 1\n",
    "\n",
    "    if top_matches is not None:\n",
    "        top_matches.loc[:, 'polygon_index'] = index\n",
    "        isov1_value = row['isov1']\n",
    "        isov2_value = row['isov2']\n",
    "        top_matches.loc[:, 'isov1'] = isov1_value \n",
    "        top_matches.loc[:, 'isov2'] = isov2_value\n",
    "        results.append(top_matches)\n",
    "    if counter == 150:\n",
    "        break\n",
    "\n",
    "if results:\n",
    "    final_gdf = gpd.GeoDataFrame(pd.concat(results, ignore_index=True),crs=\"EPSG:2643\")\n"
   ]
  }
 ],
 "metadata": {
  "kernelspec": {
   "display_name": "Python 3 (ipykernel)",
   "language": "python",
   "name": "python3"
  },
  "language_info": {
   "codemirror_mode": {
    "name": "ipython",
    "version": 3
   },
   "file_extension": ".py",
   "mimetype": "text/x-python",
   "name": "python",
   "nbconvert_exporter": "python",
   "pygments_lexer": "ipython3",
   "version": "3.9.12"
  }
 },
 "nbformat": 4,
 "nbformat_minor": 5
}
