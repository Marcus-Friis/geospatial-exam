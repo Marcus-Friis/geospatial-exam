{
 "cells": [
  {
   "cell_type": "code",
   "execution_count": 3,
   "id": "0bcb87eb-97e6-424d-a817-64863fc30cfd",
   "metadata": {},
   "outputs": [],
   "source": [
    "import pandas as pd\n",
    "import matplotlib.pyplot as plt \n",
    "import contextily as cx\n",
    "from shapely.geometry.polygon import Polygon\n",
    "import geopandas as gpd\n",
    "from tqdm import tqdm\n",
    "import warnings\n",
    "warnings.filterwarnings('ignore')"
   ]
  },
  {
   "cell_type": "code",
   "execution_count": 4,
   "id": "7603fcd9",
   "metadata": {},
   "outputs": [],
   "source": [
    "# Reading the data\n",
    "gdf_noise = gpd.read_file('../data/stoej.json')\n",
    "gdf_roads = gpd.read_file('../data/edges.json')\n",
    "\n",
    "\n",
    "# Casting to new epsg in order to use meters in the buffer zone\n",
    "gdf_noise = gdf_noise.to_crs(epsg=25832)\n",
    "gdf_roads = gdf_roads.to_crs(epsg=25832)"
   ]
  },
  {
   "cell_type": "code",
   "execution_count": 5,
   "id": "f4f55434-3261-485e-af44-1e4a6cfe6a10",
   "metadata": {},
   "outputs": [
    {
     "name": "stderr",
     "output_type": "stream",
     "text": [
      "Processing roads: 100%|█████████████████████████████████████████████████████████| 61939/61939 [1:11:20<00:00, 14.47it/s]\n"
     ]
    }
   ],
   "source": [
    "# Buffer the roads to create an area \n",
    "gdf_roads['geometry'] = gdf_roads.geometry.buffer(10)\n",
    "\n",
    "# Create a spatial index for the noise polygons\n",
    "noise_sindex = gdf_noise.sindex\n",
    "\n",
    "# Intersect buffered roads with noise polygons using the spatial index and store intersection results\n",
    "intersection_results = []\n",
    "for road in tqdm(gdf_roads.itertuples(), total=len(gdf_roads), desc='Processing roads'):\n",
    "    possible_matches_i = list(noise_sindex.intersection(road.geometry.bounds))\n",
    "    possible_matches = gdf_noise.iloc[possible_matches_i]\n",
    "\n",
    "    road_area = road.geometry.area\n",
    "    for noise_polygon in possible_matches.itertuples():\n",
    "        if road.geometry.intersects(noise_polygon.geometry):\n",
    "            intersection = road.geometry.intersection(noise_polygon.geometry)\n",
    "            \n",
    "            if not intersection.is_empty:\n",
    "                intersection_area = intersection.area\n",
    "\n",
    "                intersection_results.append({\n",
    "                    'road_id': road.id,\n",
    "                    'road_length': road.geometry.length,\n",
    "                    'noise_id': noise_polygon.id,\n",
    "                    'intersection_area': intersection_area,\n",
    "                    'road_area': road_area,\n",
    "                    'noise_level': noise_polygon.isov1\n",
    "                })\n",
    "\n",
    "# Convert the intersection results to a DataFrame\n",
    "intersections_df = pd.DataFrame(intersection_results)\n",
    "\n",
    "# Calculate the total intersection area for each road by summing up \n",
    "# the intersection areas of all noise polygons that intersect with the road.\n",
    "intersection_sums = intersections_df.groupby('road_id')['intersection_area'].sum().reset_index()\n",
    "intersection_sums.rename(columns={'intersection_area': 'total_intersection_area'}, inplace=True)\n",
    "\n",
    "# Merge to get the total intersection area per road\n",
    "intersections_df = intersections_df.merge(intersection_sums, on='road_id')\n",
    "\n",
    "# Calculate normalized intersection percentage\n",
    "intersections_df['intersection_percentage'] = intersections_df['intersection_area'] / intersections_df['total_intersection_area']\n",
    "\n",
    "#Calculate weighted noise based on normalized intersection percentage\n",
    "intersections_df['weighted_noise'] = intersections_df['noise_level'] * intersections_df['intersection_percentage']\n",
    "\n",
    "# Group by road id to sum the weighted noise levels\n",
    "road_noise = intersections_df.groupby('road_id')['weighted_noise'].sum().reset_index()\n",
    "\n",
    "# Merge the noise information back to the original road dataset\n",
    "gdf_roads['id'] = gdf_roads['id'].astype(str)  # Ensuring 'id' is of the same data type\n",
    "road_noise['road_id'] = road_noise['road_id'].astype(str)  # Ensuring 'road_id' is of the same data type\n",
    "gdf_roads = gdf_roads.merge(road_noise, left_on='id', right_on='road_id', how='left').drop(columns=['road_id'])\n",
    "\n",
    "#Ensure the new 'weighted_noise' does not have NaNs (Frederiksberg data)\n",
    "gdf_roads['weighted_noise'] = gdf_roads['weighted_noise'].fillna(0)\n",
    "\n"
   ]
  },
  {
   "cell_type": "code",
   "execution_count": 6,
   "id": "0ec5a146-e5ce-4325-80c0-045424801c13",
   "metadata": {},
   "outputs": [
    {
     "data": {
      "text/plain": [
       "61939"
      ]
     },
     "execution_count": 6,
     "metadata": {},
     "output_type": "execute_result"
    }
   ],
   "source": [
    "len(gdf_roads)"
   ]
  },
  {
   "cell_type": "code",
   "execution_count": 7,
   "id": "a4245efa-99cb-46b8-8a4e-cbfd543a34bf",
   "metadata": {},
   "outputs": [],
   "source": [
    "gdf_roads.to_file('../data/noise_cph_frb.json')"
   ]
  },
  {
   "cell_type": "code",
   "execution_count": 37,
   "id": "aa93715a-719f-4cb6-b37c-1c8635dff84d",
   "metadata": {},
   "outputs": [],
   "source": [
    "#Since Frederiksberg is in gdf_roads, but not gdf_noise, we have ~16.000 rows with no noise values; the roads in Frederiksberg.\n",
    "#We will filter away any roads with noise <= 0.0\n",
    "\n",
    "gdf_roads_cph = gdf_roads[gdf_roads.weighted_noise > 0.0]\n"
   ]
  },
  {
   "cell_type": "code",
   "execution_count": 8,
   "id": "f5fdc981-52a9-405e-a598-dc4391f0814b",
   "metadata": {},
   "outputs": [
    {
     "data": {
      "text/plain": [
       "45869"
      ]
     },
     "execution_count": 8,
     "metadata": {},
     "output_type": "execute_result"
    }
   ],
   "source": [
    "len(gdf_roads[gdf_roads.weighted_noise > 0.0])"
   ]
  },
  {
   "cell_type": "code",
   "execution_count": 39,
   "id": "2bafa047-9c6d-46c9-913c-28a0c20ddb80",
   "metadata": {},
   "outputs": [
    {
     "data": {
      "text/plain": [
       "count    45869.00\n",
       "mean        60.48\n",
       "std          5.86\n",
       "min         53.00\n",
       "25%         54.77\n",
       "50%         59.78\n",
       "75%         66.57\n",
       "max         70.29\n",
       "Name: weighted_noise, dtype: float64"
      ]
     },
     "execution_count": 39,
     "metadata": {},
     "output_type": "execute_result"
    }
   ],
   "source": [
    "gdf_roads_cph.weighted_noise.describe().round(decimals=2)"
   ]
  },
  {
   "cell_type": "code",
   "execution_count": 15,
   "id": "2b34b197-0355-4677-af66-c998db62553d",
   "metadata": {},
   "outputs": [],
   "source": [
    "gdf_roads_cph.to_file('../data/noise_cph_kommune.json')"
   ]
  },
  {
   "cell_type": "code",
   "execution_count": null,
   "id": "83a45b03-95dc-4f55-993b-83112f67a5e9",
   "metadata": {},
   "outputs": [],
   "source": [
    "# plot streets by noise level\n",
    "f, ax = plt.subplots(figsize=(12,12))\n",
    "gdf_roads_cph.plot(\n",
    "    column='weighted_noise',\n",
    "    scheme='quantiles',\n",
    "    k=5,\n",
    "    cmap ='RdYlGn_r',\n",
    "    ax=ax)\n",
    "ax.set_axis_off()\n",
    "\n",
    "cx.add_basemap(\n",
    "    ax, \n",
    "    crs=gdf_roads_cph.crs,\n",
    "    source=cx.providers.CartoDB.DarkMatterNoLabels\n",
    ")\n",
    "\n",
    "plt.savefig('../pictures/street_noise_map_02.png')\n"
   ]
  },
  {
   "cell_type": "markdown",
   "id": "47442f41-b813-4063-94b8-a73f2e1708a7",
   "metadata": {},
   "source": [
    "**Below is all the roads that did not get assigned any noise levels from the polygons. The big blue cluster is Frederiksberg, which was not part of the noise data. The rest is *probably* small edges that did not get a bigger enough buffer zone to match with any polygons.**"
   ]
  },
  {
   "cell_type": "code",
   "execution_count": null,
   "id": "954de4c8-a29b-4e21-bfdf-18241d6df02d",
   "metadata": {},
   "outputs": [],
   "source": [
    "gdf_roads[gdf_roads.weighted_noise == 0.0].explore()"
   ]
  }
 ],
 "metadata": {
  "kernelspec": {
   "display_name": "Python 3 (ipykernel)",
   "language": "python",
   "name": "python3"
  },
  "language_info": {
   "codemirror_mode": {
    "name": "ipython",
    "version": 3
   },
   "file_extension": ".py",
   "mimetype": "text/x-python",
   "name": "python",
   "nbconvert_exporter": "python",
   "pygments_lexer": "ipython3",
   "version": "3.9.12"
  }
 },
 "nbformat": 4,
 "nbformat_minor": 5
}
